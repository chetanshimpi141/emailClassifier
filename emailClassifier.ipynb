{
 "cells": [
  {
   "cell_type": "code",
   "execution_count": 1,
   "id": "2fda2e50",
   "metadata": {},
   "outputs": [],
   "source": [
    "file_path = '/Users/chetan/agents/Email-Classifier/test/email'"
   ]
  },
  {
   "cell_type": "code",
   "execution_count": 2,
   "id": "fa419334",
   "metadata": {},
   "outputs": [],
   "source": [
    "# Step 2: Read the email content\n",
    "with open(file_path, 'r', encoding='latin-1') as file:\n",
    "    content = file.read()\n"
   ]
  },
  {
   "cell_type": "code",
   "execution_count": 3,
   "id": "f691af48",
   "metadata": {},
   "outputs": [],
   "source": [
    "# Step 3: Split headers and body (first blank line separates them)\n",
    "parts = content.split('\\n\\n', 1)\n",
    "body = parts[1] if len(parts) > 1 else content"
   ]
  },
  {
   "cell_type": "code",
   "execution_count": 4,
   "id": "7c437308",
   "metadata": {},
   "outputs": [],
   "source": [
    "# Step 4: Basic cleaning\n",
    "import re"
   ]
  },
  {
   "cell_type": "code",
   "execution_count": 5,
   "id": "294ea91e",
   "metadata": {},
   "outputs": [],
   "source": [
    "cleaned_body = body.lower()\n",
    "cleaned_body = re.sub(r'\\S+@\\S+', '', cleaned_body)              # Remove email addresses\n",
    "cleaned_body = re.sub(r'http\\S+', '', cleaned_body)              # Remove URLs\n",
    "cleaned_body = re.sub(r'<.*?>', '', cleaned_body)                # Remove HTML tags\n",
    "cleaned_body = re.sub(r'[^a-zA-Z\\s]', '', cleaned_body)          # Remove special chars/numbers\n",
    "cleaned_body = re.sub(r'\\s+', ' ', cleaned_body).strip()         # Normalize whitespace"
   ]
  },
  {
   "cell_type": "code",
   "execution_count": 6,
   "id": "39fe8431",
   "metadata": {},
   "outputs": [
    {
     "name": "stdout",
     "output_type": "stream",
     "text": [
      "📝 Cleaned Email Body:\n",
      "\n",
      "guaranteed to increase lift and firm your breasts in days or your money back herbal and natural proven formula since increase your bust by to sizes within days and be all natural click here absolutely no side effects be more self confident be more comfortable in bed no more need for a lift or support bra guaranteed and from a name you know and trust you are receiving this email as a double optin subscriber to the standard affiliates mailing list to remove yourself from all related email lists just click here irish linux users group for unsubscription information list maintainer\n"
     ]
    }
   ],
   "source": [
    "# Step 5: Show result\n",
    "print(\"📝 Cleaned Email Body:\\n\")\n",
    "print(cleaned_body)"
   ]
  }
 ],
 "metadata": {
  "kernelspec": {
   "display_name": "myenv",
   "language": "python",
   "name": "python3"
  },
  "language_info": {
   "codemirror_mode": {
    "name": "ipython",
    "version": 3
   },
   "file_extension": ".py",
   "mimetype": "text/x-python",
   "name": "python",
   "nbconvert_exporter": "python",
   "pygments_lexer": "ipython3",
   "version": "3.10.18"
  }
 },
 "nbformat": 4,
 "nbformat_minor": 5
}
